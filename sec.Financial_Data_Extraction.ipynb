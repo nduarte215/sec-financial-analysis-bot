{
  "nbformat": 4,
  "nbformat_minor": 0,
  "metadata": {
    "colab": {
      "provenance": []
    },
    "kernelspec": {
      "name": "python3",
      "display_name": "Python 3"
    },
    "language_info": {
      "name": "python"
    }
  },
  "cells": [
    {
      "cell_type": "markdown",
      "source": [
        "# Financial Data Extraction **bold text**\n",
        "\n",
        "> This code shows you the process of extracting data and view it a collab setting.\n",
        "\n"
      ],
      "metadata": {
        "id": "19M26l75THwj"
      }
    },
    {
      "cell_type": "code",
      "execution_count": 9,
      "metadata": {
        "colab": {
          "base_uri": "https://localhost:8080/"
        },
        "id": "R0lKdVVt3aTv",
        "outputId": "7491b235-e088-4a74-cfbf-c7a515e5f3d0"
      },
      "outputs": [
        {
          "output_type": "stream",
          "name": "stdout",
          "text": [
            "Requirement already satisfied: notebook in /usr/local/lib/python3.11/dist-packages (6.5.7)\n",
            "Requirement already satisfied: jinja2 in /usr/local/lib/python3.11/dist-packages (from notebook) (3.1.6)\n",
            "Requirement already satisfied: tornado>=6.1 in /usr/local/lib/python3.11/dist-packages (from notebook) (6.4.2)\n",
            "Requirement already satisfied: pyzmq>=17 in /usr/local/lib/python3.11/dist-packages (from notebook) (24.0.1)\n",
            "Requirement already satisfied: argon2-cffi in /usr/local/lib/python3.11/dist-packages (from notebook) (25.1.0)\n",
            "Requirement already satisfied: traitlets>=4.2.1 in /usr/local/lib/python3.11/dist-packages (from notebook) (5.7.1)\n",
            "Requirement already satisfied: jupyter-core>=4.6.1 in /usr/local/lib/python3.11/dist-packages (from notebook) (5.8.1)\n",
            "Requirement already satisfied: jupyter-client<8,>=5.3.4 in /usr/local/lib/python3.11/dist-packages (from notebook) (6.1.12)\n",
            "Requirement already satisfied: ipython-genutils in /usr/local/lib/python3.11/dist-packages (from notebook) (0.2.0)\n",
            "Requirement already satisfied: nbformat in /usr/local/lib/python3.11/dist-packages (from notebook) (5.10.4)\n",
            "Requirement already satisfied: nbconvert>=5 in /usr/local/lib/python3.11/dist-packages (from notebook) (7.16.6)\n",
            "Requirement already satisfied: nest-asyncio>=1.5 in /usr/local/lib/python3.11/dist-packages (from notebook) (1.6.0)\n",
            "Requirement already satisfied: ipykernel in /usr/local/lib/python3.11/dist-packages (from notebook) (6.17.1)\n",
            "Requirement already satisfied: Send2Trash>=1.8.0 in /usr/local/lib/python3.11/dist-packages (from notebook) (1.8.3)\n",
            "Requirement already satisfied: terminado>=0.8.3 in /usr/local/lib/python3.11/dist-packages (from notebook) (0.18.1)\n",
            "Requirement already satisfied: prometheus-client in /usr/local/lib/python3.11/dist-packages (from notebook) (0.22.1)\n",
            "Requirement already satisfied: nbclassic>=0.4.7 in /usr/local/lib/python3.11/dist-packages (from notebook) (1.3.1)\n",
            "Requirement already satisfied: python-dateutil>=2.1 in /usr/local/lib/python3.11/dist-packages (from jupyter-client<8,>=5.3.4->notebook) (2.9.0.post0)\n",
            "Requirement already satisfied: platformdirs>=2.5 in /usr/local/lib/python3.11/dist-packages (from jupyter-core>=4.6.1->notebook) (4.3.8)\n",
            "Requirement already satisfied: notebook-shim>=0.2.3 in /usr/local/lib/python3.11/dist-packages (from nbclassic>=0.4.7->notebook) (0.2.4)\n",
            "Requirement already satisfied: beautifulsoup4 in /usr/local/lib/python3.11/dist-packages (from nbconvert>=5->notebook) (4.13.4)\n",
            "Requirement already satisfied: bleach!=5.0.0 in /usr/local/lib/python3.11/dist-packages (from bleach[css]!=5.0.0->nbconvert>=5->notebook) (6.2.0)\n",
            "Requirement already satisfied: defusedxml in /usr/local/lib/python3.11/dist-packages (from nbconvert>=5->notebook) (0.7.1)\n",
            "Requirement already satisfied: jupyterlab-pygments in /usr/local/lib/python3.11/dist-packages (from nbconvert>=5->notebook) (0.3.0)\n",
            "Requirement already satisfied: markupsafe>=2.0 in /usr/local/lib/python3.11/dist-packages (from nbconvert>=5->notebook) (3.0.2)\n",
            "Requirement already satisfied: mistune<4,>=2.0.3 in /usr/local/lib/python3.11/dist-packages (from nbconvert>=5->notebook) (3.1.3)\n",
            "Requirement already satisfied: nbclient>=0.5.0 in /usr/local/lib/python3.11/dist-packages (from nbconvert>=5->notebook) (0.10.2)\n",
            "Requirement already satisfied: packaging in /usr/local/lib/python3.11/dist-packages (from nbconvert>=5->notebook) (24.2)\n",
            "Requirement already satisfied: pandocfilters>=1.4.1 in /usr/local/lib/python3.11/dist-packages (from nbconvert>=5->notebook) (1.5.1)\n",
            "Requirement already satisfied: pygments>=2.4.1 in /usr/local/lib/python3.11/dist-packages (from nbconvert>=5->notebook) (2.19.2)\n",
            "Requirement already satisfied: fastjsonschema>=2.15 in /usr/local/lib/python3.11/dist-packages (from nbformat->notebook) (2.21.1)\n",
            "Requirement already satisfied: jsonschema>=2.6 in /usr/local/lib/python3.11/dist-packages (from nbformat->notebook) (4.24.0)\n",
            "Requirement already satisfied: ptyprocess in /usr/local/lib/python3.11/dist-packages (from terminado>=0.8.3->notebook) (0.7.0)\n",
            "Requirement already satisfied: argon2-cffi-bindings in /usr/local/lib/python3.11/dist-packages (from argon2-cffi->notebook) (21.2.0)\n",
            "Requirement already satisfied: debugpy>=1.0 in /usr/local/lib/python3.11/dist-packages (from ipykernel->notebook) (1.8.0)\n",
            "Requirement already satisfied: ipython>=7.23.1 in /usr/local/lib/python3.11/dist-packages (from ipykernel->notebook) (7.34.0)\n",
            "Requirement already satisfied: matplotlib-inline>=0.1 in /usr/local/lib/python3.11/dist-packages (from ipykernel->notebook) (0.1.7)\n",
            "Requirement already satisfied: psutil in /usr/local/lib/python3.11/dist-packages (from ipykernel->notebook) (5.9.5)\n",
            "Requirement already satisfied: webencodings in /usr/local/lib/python3.11/dist-packages (from bleach!=5.0.0->bleach[css]!=5.0.0->nbconvert>=5->notebook) (0.5.1)\n",
            "Requirement already satisfied: tinycss2<1.5,>=1.1.0 in /usr/local/lib/python3.11/dist-packages (from bleach[css]!=5.0.0->nbconvert>=5->notebook) (1.4.0)\n",
            "Requirement already satisfied: setuptools>=18.5 in /usr/local/lib/python3.11/dist-packages (from ipython>=7.23.1->ipykernel->notebook) (75.2.0)\n",
            "Collecting jedi>=0.16 (from ipython>=7.23.1->ipykernel->notebook)\n",
            "  Downloading jedi-0.19.2-py2.py3-none-any.whl.metadata (22 kB)\n",
            "Requirement already satisfied: decorator in /usr/local/lib/python3.11/dist-packages (from ipython>=7.23.1->ipykernel->notebook) (4.4.2)\n",
            "Requirement already satisfied: pickleshare in /usr/local/lib/python3.11/dist-packages (from ipython>=7.23.1->ipykernel->notebook) (0.7.5)\n",
            "Requirement already satisfied: prompt-toolkit!=3.0.0,!=3.0.1,<3.1.0,>=2.0.0 in /usr/local/lib/python3.11/dist-packages (from ipython>=7.23.1->ipykernel->notebook) (3.0.51)\n",
            "Requirement already satisfied: backcall in /usr/local/lib/python3.11/dist-packages (from ipython>=7.23.1->ipykernel->notebook) (0.2.0)\n",
            "Requirement already satisfied: pexpect>4.3 in /usr/local/lib/python3.11/dist-packages (from ipython>=7.23.1->ipykernel->notebook) (4.9.0)\n",
            "Requirement already satisfied: attrs>=22.2.0 in /usr/local/lib/python3.11/dist-packages (from jsonschema>=2.6->nbformat->notebook) (25.3.0)\n",
            "Requirement already satisfied: jsonschema-specifications>=2023.03.6 in /usr/local/lib/python3.11/dist-packages (from jsonschema>=2.6->nbformat->notebook) (2025.4.1)\n",
            "Requirement already satisfied: referencing>=0.28.4 in /usr/local/lib/python3.11/dist-packages (from jsonschema>=2.6->nbformat->notebook) (0.36.2)\n",
            "Requirement already satisfied: rpds-py>=0.7.1 in /usr/local/lib/python3.11/dist-packages (from jsonschema>=2.6->nbformat->notebook) (0.26.0)\n",
            "Requirement already satisfied: jupyter-server<3,>=1.8 in /usr/local/lib/python3.11/dist-packages (from notebook-shim>=0.2.3->nbclassic>=0.4.7->notebook) (1.16.0)\n",
            "Requirement already satisfied: six>=1.5 in /usr/local/lib/python3.11/dist-packages (from python-dateutil>=2.1->jupyter-client<8,>=5.3.4->notebook) (1.17.0)\n",
            "Requirement already satisfied: cffi>=1.0.1 in /usr/local/lib/python3.11/dist-packages (from argon2-cffi-bindings->argon2-cffi->notebook) (1.17.1)\n",
            "Requirement already satisfied: soupsieve>1.2 in /usr/local/lib/python3.11/dist-packages (from beautifulsoup4->nbconvert>=5->notebook) (2.7)\n",
            "Requirement already satisfied: typing-extensions>=4.0.0 in /usr/local/lib/python3.11/dist-packages (from beautifulsoup4->nbconvert>=5->notebook) (4.14.1)\n",
            "Requirement already satisfied: pycparser in /usr/local/lib/python3.11/dist-packages (from cffi>=1.0.1->argon2-cffi-bindings->argon2-cffi->notebook) (2.22)\n",
            "Requirement already satisfied: parso<0.9.0,>=0.8.4 in /usr/local/lib/python3.11/dist-packages (from jedi>=0.16->ipython>=7.23.1->ipykernel->notebook) (0.8.4)\n",
            "Requirement already satisfied: anyio>=3.1.0 in /usr/local/lib/python3.11/dist-packages (from jupyter-server<3,>=1.8->notebook-shim>=0.2.3->nbclassic>=0.4.7->notebook) (4.9.0)\n",
            "Requirement already satisfied: websocket-client in /usr/local/lib/python3.11/dist-packages (from jupyter-server<3,>=1.8->notebook-shim>=0.2.3->nbclassic>=0.4.7->notebook) (1.8.0)\n",
            "Requirement already satisfied: wcwidth in /usr/local/lib/python3.11/dist-packages (from prompt-toolkit!=3.0.0,!=3.0.1,<3.1.0,>=2.0.0->ipython>=7.23.1->ipykernel->notebook) (0.2.13)\n",
            "Requirement already satisfied: idna>=2.8 in /usr/local/lib/python3.11/dist-packages (from anyio>=3.1.0->jupyter-server<3,>=1.8->notebook-shim>=0.2.3->nbclassic>=0.4.7->notebook) (3.10)\n",
            "Requirement already satisfied: sniffio>=1.1 in /usr/local/lib/python3.11/dist-packages (from anyio>=3.1.0->jupyter-server<3,>=1.8->notebook-shim>=0.2.3->nbclassic>=0.4.7->notebook) (1.3.1)\n",
            "Downloading jedi-0.19.2-py2.py3-none-any.whl (1.6 MB)\n",
            "\u001b[2K   \u001b[90m━━━━━━━━━━━━━━━━━━━━━━━━━━━━━━━━━━━━━━━━\u001b[0m \u001b[32m1.6/1.6 MB\u001b[0m \u001b[31m23.7 MB/s\u001b[0m eta \u001b[36m0:00:00\u001b[0m\n",
            "\u001b[?25hInstalling collected packages: jedi\n",
            "Successfully installed jedi-0.19.2\n"
          ]
        }
      ],
      "source": [
        "pip install notebook"
      ]
    },
    {
      "cell_type": "code",
      "source": [
        "import pandas as pd"
      ],
      "metadata": {
        "id": "Z0P2xCQJ35WV"
      },
      "execution_count": 1,
      "outputs": []
    },
    {
      "cell_type": "code",
      "source": [
        "df = pd.read_excel('/content/sec_financial extractions.xlsx', sheet_name='Companies')\n",
        "print(df.head())"
      ],
      "metadata": {
        "colab": {
          "base_uri": "https://localhost:8080/"
        },
        "id": "aypiHwZJ4JTB",
        "outputId": "c112bf9d-15ad-42ea-d294-65a6ff5c0392"
      },
      "execution_count": 2,
      "outputs": [
        {
          "output_type": "stream",
          "name": "stdout",
          "text": [
            "     Company  Year  Revenue  Net Income  Total Assets  Total Liabilty  \\\n",
            "0      Apple  2024    93736       93736        364980           48390   \n",
            "1      Apple  2023    96773       96995        352583           43009   \n",
            "2      Apple  2022    81462       99803             0               0   \n",
            "3  Microsoft  2024   245122       88136        512163               0   \n",
            "4  Microsoft  2023   211915       72361        411976               0   \n",
            "\n",
            "   Cash Flow from Operation  \n",
            "0                    118254  \n",
            "1                    110543  \n",
            "2                    122151  \n",
            "3                         0  \n",
            "4                         0  \n"
          ]
        }
      ]
    },
    {
      "cell_type": "code",
      "source": [
        "df.columns = df.columns.str.strip()"
      ],
      "metadata": {
        "id": "L23bakpiOZnt"
      },
      "execution_count": 8,
      "outputs": []
    },
    {
      "cell_type": "code",
      "source": [
        "df = df.sort_values(['Company', 'Year'])"
      ],
      "metadata": {
        "id": "kyR8nZaBObsU"
      },
      "execution_count": 3,
      "outputs": []
    },
    {
      "cell_type": "code",
      "source": [
        "# Fill NA values that result from pct_change calculations with 0 or an appropriate value\n",
        "df.fillna(0, inplace=True)"
      ],
      "metadata": {
        "id": "3ZFiCwkMPGEg"
      },
      "execution_count": 4,
      "outputs": []
    },
    {
      "cell_type": "code",
      "source": [
        "df['Revenue Growth (%)'] = df.groupby(['Company'])['Revenue'].pct_change() * 100\n",
        "df['Net Income Growth (%)'] = df.groupby(['Company'])['Net Income'].pct_change() * 100\n"
      ],
      "metadata": {
        "id": "TWNaJIek4XMZ"
      },
      "execution_count": 5,
      "outputs": []
    },
    {
      "cell_type": "code",
      "source": [
        "# Display the dataframe to verify the calculations\n",
        "print(df)"
      ],
      "metadata": {
        "colab": {
          "base_uri": "https://localhost:8080/"
        },
        "id": "9bXt806hPB__",
        "outputId": "cd02ccaf-a801-4225-a18d-e9a44ab03318"
      },
      "execution_count": 6,
      "outputs": [
        {
          "output_type": "stream",
          "name": "stdout",
          "text": [
            "     Company  Year  Revenue  Net Income  Total Assets  Total Liabilty  \\\n",
            "2      Apple  2022    81462       99803             0               0   \n",
            "1      Apple  2023    96773       96995        352583           43009   \n",
            "0      Apple  2024    93736       93736        364980           48390   \n",
            "5  Microsoft  2022   198270       72738             0               0   \n",
            "4  Microsoft  2023   211915       72361        411976               0   \n",
            "3  Microsoft  2024   245122       88136        512163               0   \n",
            "8      Tesla  2022    81462       12587             0               0   \n",
            "7      Tesla  2023    96773       14974        106618           43009   \n",
            "6      Tesla  2024    97690        7153        122070           48390   \n",
            "\n",
            "   Cash Flow from Operation  Revenue Growth (%)  Net Income Growth (%)  \n",
            "2                    122151                 NaN                    NaN  \n",
            "1                    110543           18.795267              -2.813543  \n",
            "0                    118254           -3.138272              -3.359967  \n",
            "5                         0                 NaN                    NaN  \n",
            "4                         0            6.882030              -0.518299  \n",
            "3                         0           15.669962              21.800417  \n",
            "8                      7197                 NaN                    NaN  \n",
            "7                      8769           18.795267              18.964010  \n",
            "6                     10374            0.947578             -52.230533  \n"
          ]
        }
      ]
    },
    {
      "cell_type": "code",
      "source": [
        "summary = df.groupby('Company').agg({\n",
        "    'Revenue Growth (%)': 'mean',\n",
        "    'Net Income Growth (%)': 'mean'\n",
        "}).reset_index()\n",
        "\n",
        "print(\"\\nYear-over-Year Average Growth Rates (%):\")\n",
        "print(summary)"
      ],
      "metadata": {
        "colab": {
          "base_uri": "https://localhost:8080/"
        },
        "id": "68LihGtqPX8m",
        "outputId": "5a68c9f9-5b2f-4360-eb1d-ec10cf738eaa"
      },
      "execution_count": 7,
      "outputs": [
        {
          "output_type": "stream",
          "name": "stdout",
          "text": [
            "\n",
            "Year-over-Year Average Growth Rates (%):\n",
            "     Company  Revenue Growth (%)  Net Income Growth (%)\n",
            "0      Apple            7.828497              -3.086755\n",
            "1  Microsoft           11.275996              10.641059\n",
            "2      Tesla            9.871422             -16.633261\n"
          ]
        }
      ]
    },
    {
      "cell_type": "markdown",
      "source": [
        "# Sales Prediction for **2025**\n",
        "\n",
        "> We will need to add more libraries to our code to get the right format."
      ],
      "metadata": {
        "id": "v9vOq71RUQta"
      }
    },
    {
      "cell_type": "code",
      "source": [
        "import numpy as np\n",
        "from sklearn.linear_model import LinearRegression\n",
        "from sklearn.preprocessing import PolynomialFeatures\n",
        "from sklearn.metrics import mean_absolute_error, r2_score\n",
        "import matplotlib.pyplot as plt"
      ],
      "metadata": {
        "id": "QfL2JcWpU0b4"
      },
      "execution_count": 10,
      "outputs": []
    },
    {
      "cell_type": "code",
      "source": [
        "!pip install scikit-learn\n",
        "from sklearn.preprocessing import PolynomialFeatures\n",
        "from sklearn.linear_model import LinearRegression\n",
        "from sklearn.metrics import r2_score"
      ],
      "metadata": {
        "colab": {
          "base_uri": "https://localhost:8080/"
        },
        "id": "CtW-5qzWV9gZ",
        "outputId": "164e7e15-0522-47a0-c87b-f1b89ef9cb6d"
      },
      "execution_count": 21,
      "outputs": [
        {
          "output_type": "stream",
          "name": "stdout",
          "text": [
            "Requirement already satisfied: scikit-learn in /usr/local/lib/python3.11/dist-packages (1.6.1)\n",
            "Requirement already satisfied: numpy>=1.19.5 in /usr/local/lib/python3.11/dist-packages (from scikit-learn) (2.0.2)\n",
            "Requirement already satisfied: scipy>=1.6.0 in /usr/local/lib/python3.11/dist-packages (from scikit-learn) (1.15.3)\n",
            "Requirement already satisfied: joblib>=1.2.0 in /usr/local/lib/python3.11/dist-packages (from scikit-learn) (1.5.1)\n",
            "Requirement already satisfied: threadpoolctl>=3.1.0 in /usr/local/lib/python3.11/dist-packages (from scikit-learn) (3.6.0)\n"
          ]
        }
      ]
    },
    {
      "cell_type": "code",
      "source": [
        "# Method 1: Simple Average Growth Rate\n",
        "def predict_with_avg_growth(df):\n",
        "    \"\"\"Predict using average historical growth rate\"\"\"\n",
        "    predictions = []\n",
        "\n",
        "    for company in df['Company'].unique():\n",
        "        company_data = df[df['Company'] == company].sort_values('Year')\n",
        "\n",
        "        if len(company_data) >= 2:\n",
        "            # Calculate average growth rate\n",
        "            revenues = company_data['Revenue'].values\n",
        "            growth_rates = []\n",
        "\n",
        "            for i in range(1, len(revenues)):\n",
        "                if revenues[i-1] != 0:\n",
        "                    growth_rate = (revenues[i] - revenues[i-1]) / revenues[i-1]\n",
        "                    growth_rates.append(growth_rate)\n",
        "\n",
        "            avg_growth = np.mean(growth_rates) if growth_rates else 0\n",
        "            latest_revenue = revenues[-1]\n",
        "            predicted_2025 = latest_revenue * (1 + avg_growth)\n",
        "\n",
        "            predictions.append({\n",
        "                'Company': company,\n",
        "                'Method': 'Average Growth',\n",
        "                'Latest_Revenue_2024': latest_revenue,\n",
        "                'Avg_Growth_Rate': avg_growth * 100,\n",
        "                'Predicted_2025': predicted_2025\n",
        "            })\n",
        "\n",
        "    return pd.DataFrame(predictions)"
      ],
      "metadata": {
        "id": "hAaQltBaU8po"
      },
      "execution_count": 11,
      "outputs": []
    },
    {
      "cell_type": "code",
      "source": [
        "def predict_with_linear_regression(df):\n",
        "    \"\"\"Predict using linear regression on year vs revenue\"\"\"\n",
        "    predictions = []\n",
        "\n",
        "    for company in df['Company'].unique():\n",
        "        company_data = df[df['Company'] == company].sort_values('Year')\n",
        "\n",
        "        if len(company_data) >= 2:\n",
        "            X = company_data['Year'].values.reshape(-1, 1)\n",
        "            y = company_data['Revenue'].values\n",
        "\n",
        "            # Fit linear regression\n",
        "            model = LinearRegression()\n",
        "            model.fit(X, y)\n",
        "\n",
        "            # Predict 2025\n",
        "            predicted_2025 = model.predict([[2025]])[0]\n",
        "            r2 = r2_score(y, model.predict(X))\n",
        "\n",
        "            predictions.append({\n",
        "                'Company': company,\n",
        "                'Method': 'Linear Regression',\n",
        "                'R2_Score': r2,\n",
        "                'Predicted_2025': predicted_2025,\n",
        "                'Trend_Slope': model.coef_[0]\n",
        "            })\n",
        "\n",
        "    return pd.DataFrame(predictions)"
      ],
      "metadata": {
        "id": "ZJrLGVboVEi2"
      },
      "execution_count": 12,
      "outputs": []
    },
    {
      "cell_type": "code",
      "source": [
        "def predict_with_polynomial_regression(df, degree=2):\n",
        "    \"\"\"Predict using polynomial regression\"\"\"\n",
        "    from sklearn.preprocessing import PolynomialFeatures\n",
        "    from sklearn.linear_model import LinearRegression\n",
        "    from sklearn.metrics import r2_score\n",
        "\n",
        "    predictions = []\n",
        "\n",
        "    for company in df['Company'].unique():\n",
        "        company_data = df[df['Company'] == company].sort_values('Year')\n",
        "\n",
        "        if len(company_data) >= 3:  # Need more points for polynomial\n",
        "            X = company_data['Year'].values.reshape(-1, 1)\n",
        "            y = company_data['Revenue'].values\n",
        "\n",
        "            # Create polynomial features\n",
        "            poly_features = PolynomialFeatures(degree=degree)\n",
        "            X_poly = poly_features.fit_transform(X)\n",
        "\n",
        "            # Fit polynomial regression\n",
        "            model = LinearRegression()\n",
        "            model.fit(X_poly, y)\n",
        "\n",
        "            # Predict 2025\n",
        "            X_2025_poly = poly_features.transform([[2025]])\n",
        "            predicted_2025 = model.predict(X_2025_poly)[0]\n",
        "            r2 = r2_score(y, model.predict(X_poly))\n",
        "\n",
        "            predictions.append({\n",
        "                'Company': company,\n",
        "                'Method': f'Polynomial (degree {degree})',\n",
        "                'R2_Score': r2,\n",
        "                'Predicted_2025': predicted_2025\n",
        "            })\n",
        "\n",
        "    return pd.DataFrame(predictions)"
      ],
      "metadata": {
        "id": "ywyypGBUVNKW"
      },
      "execution_count": 17,
      "outputs": []
    },
    {
      "cell_type": "code",
      "source": [
        "def predict_with_weighted_average(df):\n",
        "    \"\"\"Predict using weighted moving average\"\"\"\n",
        "    predictions = []\n",
        "\n",
        "    for company in df['Company'].unique():\n",
        "        company_data = df[df['Company'] == company].sort_values('Year')\n",
        "\n",
        "        if len(company_data) >= 2:\n",
        "            revenues = company_data['Revenue'].values\n",
        "            years = company_data['Year'].values\n",
        "\n",
        "            # Create weights (more recent years get higher weights)\n",
        "            weights = np.arange(1, len(revenues) + 1)\n",
        "            weights = weights / weights.sum()\n",
        "\n",
        "            # Calculate weighted average growth\n",
        "            growth_rates = []\n",
        "            for i in range(1, len(revenues)):\n",
        "                if revenues[i-1] != 0:\n",
        "                    growth_rate = (revenues[i] - revenues[i-1]) / revenues[i-1]\n",
        "                    growth_rates.append(growth_rate)\n",
        "\n",
        "            if growth_rates:\n",
        "                # Weight the growth rates\n",
        "                growth_weights = weights[1:]  # Skip first weight since we have n-1 growth rates\n",
        "                growth_weights = growth_weights / growth_weights.sum()\n",
        "                weighted_growth = np.average(growth_rates, weights=growth_weights)\n",
        "            else:\n",
        "                weighted_growth = 0\n",
        "\n",
        "            latest_revenue = revenues[-1]\n",
        "            predicted_2025 = latest_revenue * (1 + weighted_growth)\n",
        "\n",
        "            predictions.append({\n",
        "                'Company': company,\n",
        "                'Method': 'Weighted Average',\n",
        "                'Latest_Revenue_2024': latest_revenue,\n",
        "                'Weighted_Growth_Rate': weighted_growth * 100,\n",
        "                'Predicted_2025': predicted_2025\n",
        "            })\n",
        "\n",
        "    return pd.DataFrame(predictions)"
      ],
      "metadata": {
        "id": "4SZNJgCXVSvp"
      },
      "execution_count": 18,
      "outputs": []
    },
    {
      "cell_type": "code",
      "source": [
        "def create_ensemble_prediction(df):\n",
        "    \"\"\"Combine multiple prediction methods\"\"\"\n",
        "\n",
        "    # Get predictions from different methods\n",
        "    avg_growth_pred = predict_with_avg_growth(df)\n",
        "    linear_pred = predict_with_linear_regression(df)\n",
        "    poly_pred = predict_with_polynomial_regression(df)\n",
        "    weighted_pred = predict_with_weighted_average(df)\n",
        "\n",
        "    ensemble_predictions = []\n",
        "\n",
        "    for company in df['Company'].unique():\n",
        "        predictions = []\n",
        "        weights = []\n",
        "\n",
        "        # Collect predictions and their weights (based on method reliability)\n",
        "        for pred_df, weight in [(avg_growth_pred, 0.25), (linear_pred, 0.30),\n",
        "                               (poly_pred, 0.20), (weighted_pred, 0.25)]:\n",
        "            company_pred = pred_df[pred_df['Company'] == company]\n",
        "            if not company_pred.empty:\n",
        "                predictions.append(company_pred['Predicted_2025'].iloc[0])\n",
        "                weights.append(weight)\n",
        "\n",
        "        if predictions:\n",
        "            # Normalize weights\n",
        "            weights = np.array(weights) / np.sum(weights)\n",
        "            ensemble_pred = np.average(predictions, weights=weights)\n",
        "\n",
        "            ensemble_predictions.append({\n",
        "                'Company': company,\n",
        "                'Method': 'Ensemble',\n",
        "                'Predicted_2025': ensemble_pred,\n",
        "                'Individual_Predictions': predictions,\n",
        "                'Method_Weights': weights.tolist()\n",
        "            })\n",
        "\n",
        "    return pd.DataFrame(ensemble_predictions)\n"
      ],
      "metadata": {
        "id": "njymZu2-VXS3"
      },
      "execution_count": 19,
      "outputs": []
    },
    {
      "cell_type": "code",
      "source": [
        "def visualize_predictions(df, predictions_df):\n",
        "    \"\"\"Create visualizations of historical data and predictions\"\"\"\n",
        "\n",
        "    fig, axes = plt.subplots(1, 3, figsize=(18, 6))\n",
        "    companies = df['Company'].unique()\n",
        "\n",
        "    for i, company in enumerate(companies):\n",
        "        if i < 3:  # Only plot first 3 companies\n",
        "            company_data = df[df['Company'] == company].sort_values('Year')\n",
        "\n",
        "            # Plot historical data\n",
        "            axes[i].plot(company_data['Year'], company_data['Revenue'],\n",
        "                        'o-', label='Historical', linewidth=2, markersize=8)\n",
        "\n",
        "            # Plot predictions\n",
        "            pred_2025 = predictions_df[predictions_df['Company'] == company]['Predicted_2025'].iloc[0]\n",
        "            axes[i].plot([2024, 2025], [company_data['Revenue'].iloc[-1], pred_2025],\n",
        "                        'r--o', label='Prediction', linewidth=2, markersize=8)\n",
        "\n",
        "            axes[i].set_title(f'{company} Revenue Trend & 2025 Prediction')\n",
        "            axes[i].set_xlabel('Year')\n",
        "            axes[i].set_ylabel('Revenue (millions)')\n",
        "            axes[i].legend()\n",
        "            axes[i].grid(True, alpha=0.3)\n",
        "\n",
        "    plt.tight_layout()\n",
        "    plt.show()"
      ],
      "metadata": {
        "id": "vaF5Q4DmVamk"
      },
      "execution_count": 20,
      "outputs": []
    },
    {
      "cell_type": "code",
      "source": [
        "if __name__ == \"__main__\":\n",
        "    # Load your data\n",
        "    # df = pd.read_excel('/content/sec_financial extractions.xlsx', sheet_name='Companies')\n",
        "\n",
        "    # Run all prediction methods\n",
        "    print(\"=== 2025 Sales Predictions ===\\n\")\n",
        "\n",
        "    # Method 1: Average Growth\n",
        "    avg_predictions = predict_with_avg_growth(df)\n",
        "    print(\"1. Average Growth Method:\")\n",
        "    print(avg_predictions.round(2))\n",
        "    print()\n",
        "\n",
        "    # Method 2: Linear Regression\n",
        "    linear_predictions = predict_with_linear_regression(df)\n",
        "    print(\"2. Linear Regression Method:\")\n",
        "    print(linear_predictions.round(2))\n",
        "    print()\n",
        "\n",
        "    # Method 3: Polynomial Regression\n",
        "    poly_predictions = predict_with_polynomial_regression(df)\n",
        "    print(\"3. Polynomial Regression Method:\")\n",
        "    print(poly_predictions.round(2))\n",
        "    print()\n",
        "\n",
        "    # Method 4: Weighted Average\n",
        "    weighted_predictions = predict_with_weighted_average(df)\n",
        "    print(\"4. Weighted Moving Average Method:\")\n",
        "    print(weighted_predictions.round(2))\n",
        "    print()\n",
        "\n",
        "    # Method 5: Ensemble\n",
        "    ensemble_predictions = create_ensemble_prediction(df)\n",
        "    print(\"5. Ensemble Method (Recommended):\")\n",
        "    print(ensemble_predictions.round(2))\n",
        "\n",
        "    # Create summary comparison\n",
        "    summary_data = []\n",
        "    for company in df['Company'].unique():\n",
        "        row = {'Company': company}\n",
        "\n",
        "        # Get predictions from each method\n",
        "        if not avg_predictions[avg_predictions['Company'] == company].empty:\n",
        "            row['Avg_Growth'] = avg_predictions[avg_predictions['Company'] == company]['Predicted_2025'].iloc[0]\n",
        "        if not linear_predictions[linear_predictions['Company'] == company].empty:\n",
        "            row['Linear_Reg'] = linear_predictions[linear_predictions['Company'] == company]['Predicted_2025'].iloc[0]\n",
        "        if not poly_predictions[poly_predictions['Company'] == company].empty:\n",
        "            row['Polynomial'] = poly_predictions[poly_predictions['Company'] == company]['Predicted_2025'].iloc[0]\n",
        "        if not weighted_predictions[weighted_predictions['Company'] == company].empty:\n",
        "            row['Weighted_Avg'] = weighted_predictions[weighted_predictions['Company'] == company]['Predicted_2025'].iloc[0]\n",
        "        if not ensemble_predictions[ensemble_predictions['Company'] == company].empty:\n",
        "            row['Ensemble'] = ensemble_predictions[ensemble_predictions['Company'] == company]['Predicted_2025'].iloc[0]\n",
        "\n",
        "        summary_data.append(row)\n",
        "\n",
        "    summary_df = pd.DataFrame(summary_data)\n",
        "    print(\"\\n=== Summary: All Methods Comparison ===\")\n",
        "    print(summary_df.round(0))\n",
        ""
      ],
      "metadata": {
        "colab": {
          "base_uri": "https://localhost:8080/"
        },
        "id": "iCnr-cEiVf79",
        "outputId": "cd954978-81b3-4bdc-a059-8ca17173331d"
      },
      "execution_count": 22,
      "outputs": [
        {
          "output_type": "stream",
          "name": "stdout",
          "text": [
            "=== 2025 Sales Predictions ===\n",
            "\n",
            "1. Average Growth Method:\n",
            "     Company          Method  Latest_Revenue_2024  Avg_Growth_Rate  \\\n",
            "0      Apple  Average Growth                93736             7.83   \n",
            "1  Microsoft  Average Growth               245122            11.28   \n",
            "2      Tesla  Average Growth                97690             9.87   \n",
            "\n",
            "   Predicted_2025  \n",
            "0       101074.12  \n",
            "1       272761.95  \n",
            "2       107333.39  \n",
            "\n",
            "2. Linear Regression Method:\n",
            "     Company             Method  R2_Score  Predicted_2025  Trend_Slope\n",
            "0      Apple  Linear Regression      0.57       102931.00       6137.0\n",
            "1  Microsoft  Linear Regression      0.95       265287.67      23426.0\n",
            "2      Tesla  Linear Regression      0.79       108203.00       8114.0\n",
            "\n",
            "3. Polynomial Regression Method:\n",
            "     Company                 Method  R2_Score  Predicted_2025\n",
            "0      Apple  Polynomial (degree 2)       1.0         72351.0\n",
            "1  Microsoft  Polynomial (degree 2)       1.0        297891.0\n",
            "2      Tesla  Polynomial (degree 2)       1.0         84213.0\n",
            "\n",
            "4. Weighted Moving Average Method:\n",
            "     Company            Method  Latest_Revenue_2024  Weighted_Growth_Rate  \\\n",
            "0      Apple  Weighted Average                93736                  5.64   \n",
            "1  Microsoft  Weighted Average               245122                 12.15   \n",
            "2      Tesla  Weighted Average                97690                  8.09   \n",
            "\n",
            "   Predicted_2025  \n",
            "0        99018.16  \n",
            "1       274916.06  \n",
            "2       105589.85  \n",
            "\n",
            "5. Ensemble Method (Recommended):\n",
            "     Company    Method  Predicted_2025  \\\n",
            "0      Apple  Ensemble        95372.57   \n",
            "1  Microsoft  Ensemble       276084.00   \n",
            "2      Tesla  Ensemble       102534.31   \n",
            "\n",
            "                              Individual_Predictions          Method_Weights  \n",
            "0  [101074.1201662965, 102931.0, 72351.0000305175...  [0.25, 0.3, 0.2, 0.25]  \n",
            "1  [272761.94638654834, 265287.6666666642, 297891...  [0.25, 0.3, 0.2, 0.25]  \n",
            "2  [107333.39257093616, 108203.0, 84213.0, 105589...  [0.25, 0.3, 0.2, 0.25]  \n",
            "\n",
            "=== Summary: All Methods Comparison ===\n",
            "     Company  Avg_Growth  Linear_Reg  Polynomial  Weighted_Avg  Ensemble\n",
            "0      Apple    101074.0    102931.0     72351.0       99018.0   95373.0\n",
            "1  Microsoft    272762.0    265288.0    297891.0      274916.0  276084.0\n",
            "2      Tesla    107333.0    108203.0     84213.0      105590.0  102534.0\n"
          ]
        }
      ]
    }
  ]
}